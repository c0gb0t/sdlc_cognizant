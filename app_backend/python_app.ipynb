{
 "cells": [
  {
   "cell_type": "code",
   "execution_count": 25,
   "metadata": {},
   "outputs": [
    {
     "name": "stdout",
     "output_type": "stream",
     "text": [
      "Files in the directory: ./data_dir/input_files\n",
      "./data_dir/input_files/mail2.txt\n",
      "./data_dir/input_files/mail1.txt\n"
     ]
    }
   ],
   "source": [
    "# read files form data_dir/input_files directory and create a list of filepaths\n",
    "def create_file_hm():\n",
    "    import os\n",
    "    input_dir='./data_dir/input_files'\n",
    "    print(f\"Files in the directory: {input_dir}\")\n",
    "    files = os.listdir(input_dir)\n",
    "    # Filtering only the files.\n",
    "    # files = [f for f in files if os.path.isfile(input_dir+'/'+f)]\n",
    "    files = [f for f in files]\n",
    "    files=[f'{input_dir}/{f}' for f in files]\n",
    "    print(*files, sep=\"\\n\")\n",
    "    # fd={}\n",
    "    # for f in files:\n",
    "    #     fd[f]=open(f'{input_dir}/{f}')\n",
    "    # print(fd)\n",
    "    return files\n",
    "files=create_file_hm()"
   ]
  },
  {
   "cell_type": "code",
   "execution_count": 30,
   "metadata": {},
   "outputs": [
    {
     "name": "stdout",
     "output_type": "stream",
     "text": [
      "reading ./data_dir/input_files/mail2.txt file----------------\n",
      "reading ./data_dir/input_files/mail1.txt file----------------\n",
      "this mail contains summary about the incident 34567\n"
     ]
    }
   ],
   "source": [
    "# processing text files\n",
    "def proc_txt_data(files):\n",
    "    txt_files=[f for f in files if '.txt' in f]\n",
    "    txt_data=\"\"\n",
    "    for tf in txt_files:\n",
    "        print(f\"reading {tf} file----------------\")\n",
    "        with open(tf) as f:\n",
    "            txt_data+='\\n'.join(f.readlines())\n",
    "    print(txt_data)\n",
    "    return txt_data\n",
    "txt_data=proc_txt_data(files)"
   ]
  },
  {
   "cell_type": "code",
   "execution_count": null,
   "metadata": {},
   "outputs": [],
   "source": [
    "# extract data from azure speech to text api : convert speech to text\n",
    "import sys\n",
    "%pip install moviepy\n",
    "from moviepy.editor import *\n",
    "import azure.cognitiveservices.speech as speechsdk\n",
    "\n",
    "\n",
    "def proc_video_data(files):\n",
    "    vid_files=[f for f in files if '.mp4' in f]\n",
    "    vid_data=\"\"\n",
    "    for vf in vid_files:\n",
    "        speech_key, service_region = \"<your api key>\", \"<your region>\"\n",
    "        speech_config = speechsdk.SpeechConfig(subscription=speech_key, region=service_region)\n",
    "\n",
    "        audio_config = speechsdk.audio.AudioConfig(filename=vf)\n",
    "        speech_recognizer = speechsdk.SpeechRecognizer(speech_config=speech_config, audio_config=audio_config)\n",
    "        result = speech_recognizer.recognize_once()\n",
    "        print(result.text)\n",
    "        vid_data+=\"\\n\"+result.text\n",
    "\n",
    "vid_data=proc_video_data(files)"
   ]
  },
  {
   "cell_type": "code",
   "execution_count": null,
   "metadata": {},
   "outputs": [],
   "source": []
  },
  {
   "cell_type": "code",
   "execution_count": null,
   "metadata": {},
   "outputs": [],
   "source": []
  },
  {
   "cell_type": "code",
   "execution_count": null,
   "metadata": {},
   "outputs": [],
   "source": []
  },
  {
   "cell_type": "code",
   "execution_count": null,
   "metadata": {},
   "outputs": [],
   "source": []
  },
  {
   "cell_type": "code",
   "execution_count": null,
   "metadata": {},
   "outputs": [],
   "source": []
  }
 ],
 "metadata": {
  "kernelspec": {
   "display_name": "Python 3",
   "language": "python",
   "name": "python3"
  },
  "language_info": {
   "codemirror_mode": {
    "name": "ipython",
    "version": 3
   },
   "file_extension": ".py",
   "mimetype": "text/x-python",
   "name": "python",
   "nbconvert_exporter": "python",
   "pygments_lexer": "ipython3",
   "version": "3.10.8"
  }
 },
 "nbformat": 4,
 "nbformat_minor": 2
}
