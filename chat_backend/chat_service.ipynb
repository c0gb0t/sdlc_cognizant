{
 "cells": [
  {
   "cell_type": "code",
   "execution_count": 12,
   "metadata": {},
   "outputs": [],
   "source": [
    "\n",
    "import datetime\n",
    "import json\n",
    "import threading\n",
    "import time\n",
    "\n",
    "from pandas import Timestamp\n",
    "import firebase_admin\n",
    "from firebase_admin import credentials\n",
    "from firebase_admin import firestore"
   ]
  },
  {
   "cell_type": "code",
   "execution_count": 13,
   "metadata": {},
   "outputs": [
    {
     "name": "stdout",
     "output_type": "stream",
     "text": [
      "dict_keys(['stt_key1', 'stt_key2', 'openai_key1', 'openai_key2'])\n"
     ]
    }
   ],
   "source": [
    "# load azure keys\n",
    "import json\n",
    "with open('../keys/azure.json') as json_file:\n",
    "    azure_keys = json.load(json_file)\n",
    "print(azure_keys.keys())\n"
   ]
  },
  {
   "cell_type": "code",
   "execution_count": 14,
   "metadata": {},
   "outputs": [],
   "source": [
    "\n",
    "def predict(context,question):\n",
    "    print(\"-------------generating prediction-----------------\")\n",
    "    # data = json.loads(request.data)\n",
    "    # data.context=data.context.replace('\\n','\\\\n')\n",
    "    # data.context=data.context.replace('\\t','\\\\t')\n",
    "\n",
    "    # context=request.args.get('context')\n",
    "    # question=request.args.get('question')\n",
    "    context=context.replace('\\n','\\\\n')\n",
    "    context=context.replace('\\t','\\\\t')\n",
    "\n",
    "\n",
    "\n",
    "    # input=f'paragraph: {context}'\n",
    "    # instruction=f'Answer the following question from the paragraph: Question : {question}'\n",
    "    # prompts=[[input,instruction]]\n",
    "    prompt=\"\"\"\n",
    "    Answer the following question from the given paragraph: \n",
    "    #question start\n",
    "    {question}\n",
    "    #question end\n",
    "    \n",
    "    $paragraph start\n",
    "    {context}\n",
    "    #paragraph end\n",
    "    \"\"\"\n",
    "\n",
    "    start_time = time.time()\n",
    "    from openai import AzureOpenAI\n",
    "    # from azure.identity import DefaultAzureCredential, get_bearer_token_provider\n",
    "    deployment = \"red-gpt\"\n",
    "    endpoint=\"https://genai-warriors-openai-test.openai.azure.com/\"\n",
    "    # token_provider = get_bearer_token_provider(DefaultAzureCredential(), \"https://cognitiveservices.azure.com/.default\")\n",
    "    client = AzureOpenAI(\n",
    "        azure_endpoint=endpoint,\n",
    "        # azure_ad_token_provider=token_provider,\n",
    "        api_version=\"2024-02-01\",\n",
    "        api_key=azure_keys['openai_key1']\n",
    "    )\n",
    "    completion = client.completions.create(\n",
    "        model=deployment,\n",
    "        prompt=prompt,\n",
    "        temperature=0.3,\n",
    "        max_tokens=350,\n",
    "        top_p=1,\n",
    "        frequency_penalty=0,\n",
    "        presence_penalty=0,\n",
    "        stop=None\n",
    "    )\n",
    "    response=completion\n",
    "    print(response)\n",
    "    cfr=response.choices[0].content_filter_results\n",
    "    pfr=response.prompt_filter_results\n",
    "    res=response.choices[0].text\n",
    "    pt=time.time() - start_time\n",
    "    print(f\"--------------time taken by generating response={pt} seconds\")\n",
    "\n",
    "\n",
    "    return  { 'output': f'{res}' }"
   ]
  },
  {
   "cell_type": "code",
   "execution_count": 15,
   "metadata": {},
   "outputs": [],
   "source": [
    "\n",
    "def listen_msgs():\n",
    "    coll_name='mhi_pred_app'\n",
    "    user_uid='mhi_pred'\n",
    "        \n",
    "    # Use a service account.\n",
    "    cred = credentials.Certificate(f'../keys/sa.json')\n",
    "\n",
    "    if not firebase_admin._apps:\n",
    "        app = firebase_admin.initialize_app(cred)\n",
    "\n",
    "    db = firestore.client()\n",
    "    \n",
    "    # Create an Event for notifying main thread.\n",
    "    callback_done = threading.Event()\n",
    "\n",
    "    # Create a callback on_snapshot function to capture changes\n",
    "    def on_snapshot(doc_snapshot, changes, read_time):\n",
    "        for doc in doc_snapshot:\n",
    "            print(f\"Received document snapshot: {doc.id}\")\n",
    "            print(doc.to_dict())\n",
    "            data=doc.to_dict()\n",
    "\n",
    "            pred_res=predict(data['context'],data['message'])\n",
    "            # pred_res={'output':\"model response\"}\n",
    "\n",
    "            data['senderId']='chatbot@red'\n",
    "            data['message']=pred_res['output']\n",
    "            data['timestamp']=datetime.datetime.utcnow()\n",
    "            print(f'sending response: '+data['message'])\n",
    "            doc_id=str(round(time.time() * 1000))\n",
    "            db.collection(coll_name).document(user_uid).collection('allMessages').document(doc_id).set(data)\n",
    "            print(f\"----------sent----------------with id: {doc_id} \")\n",
    "\n",
    "        callback_done.set()\n",
    "\n",
    "    doc_ref = db.collection(coll_name).document(user_uid).collection('userMessages').document(\"message\")\n",
    "\n",
    "    # Watch the document\n",
    "    doc_watch = doc_ref.on_snapshot(on_snapshot)\n",
    "    \n",
    "\n",
    "    while True:\n",
    "        print('', end='', flush=True)\n",
    "        time.sleep(1)\n"
   ]
  },
  {
   "cell_type": "code",
   "execution_count": 16,
   "metadata": {},
   "outputs": [
    {
     "name": "stdout",
     "output_type": "stream",
     "text": [
      "listening for new messages-------------------\n"
     ]
    },
    {
     "name": "stdout",
     "output_type": "stream",
     "text": [
      "Received document snapshot: message\n",
      "{'senderId': 'mhi@red', 'rType': '1', 'message': 'hi, is there any ai code agent which has memory of the shared code base to respond with the same structure code', 'context': 'hi, is there any ai code agent which has memory of the shared code base to respond with the same structure code\\n', 'timestamp': DatetimeWithNanoseconds(2024, 5, 4, 3, 21, 34, 17000, tzinfo=datetime.timezone.utc), 'userNotificationToken': ''}\n",
      "-------------generating prediction-----------------\n",
      "Completion(id='cmpl-9OdirOWxZoK0FEKkUrch3haEKfJuc', choices=[CompletionChoice(finish_reason='stop', index=0, logprobs=None, text='\\n    What is the context of the paragraph?\\n    \\n    The context of the paragraph is not specified.', content_filter_results={'hate': {'filtered': False, 'severity': 'safe'}, 'self_harm': {'filtered': False, 'severity': 'safe'}, 'sexual': {'filtered': False, 'severity': 'safe'}, 'violence': {'filtered': False, 'severity': 'safe'}})], created=1715659593, model='gpt-35-turbo-instruct', object='text_completion', system_fingerprint=None, usage=CompletionUsage(completion_tokens=21, prompt_tokens=41, total_tokens=62), prompt_filter_results=[{'prompt_index': 0, 'content_filter_results': {'hate': {'filtered': False, 'severity': 'safe'}, 'self_harm': {'filtered': False, 'severity': 'safe'}, 'sexual': {'filtered': False, 'severity': 'safe'}, 'violence': {'filtered': False, 'severity': 'safe'}}}])\n",
      "--------------time taken by generating response=1.04020094871521 seconds\n",
      "sending response: \n",
      "    What is the context of the paragraph?\n",
      "    \n",
      "    The context of the paragraph is not specified.\n",
      "----------sent----------------with id: 1715659593981 \n"
     ]
    },
    {
     "ename": "KeyboardInterrupt",
     "evalue": "",
     "output_type": "error",
     "traceback": [
      "\u001b[0;31m---------------------------------------------------------------------------\u001b[0m",
      "\u001b[0;31mKeyboardInterrupt\u001b[0m                         Traceback (most recent call last)",
      "Cell \u001b[0;32mIn[16], line 3\u001b[0m\n\u001b[1;32m      1\u001b[0m \u001b[38;5;28;01mtry\u001b[39;00m:\n\u001b[1;32m      2\u001b[0m     \u001b[38;5;28mprint\u001b[39m(\u001b[38;5;124m\"\u001b[39m\u001b[38;5;124mlistening for new messages-------------------\u001b[39m\u001b[38;5;124m\"\u001b[39m)\n\u001b[0;32m----> 3\u001b[0m     \u001b[43mlisten_msgs\u001b[49m\u001b[43m(\u001b[49m\u001b[43m)\u001b[49m\n\u001b[1;32m      4\u001b[0m \u001b[38;5;28;01mexcept\u001b[39;00m \u001b[38;5;167;01mException\u001b[39;00m \u001b[38;5;28;01mas\u001b[39;00m e:\n\u001b[1;32m      5\u001b[0m     \u001b[38;5;28mprint\u001b[39m(\u001b[38;5;124mf\u001b[39m\u001b[38;5;124m'\u001b[39m\u001b[38;5;124merror occured:\u001b[39m\u001b[38;5;130;01m\\n\u001b[39;00m\u001b[38;5;130;01m\\n\u001b[39;00m\u001b[38;5;130;01m\\n\u001b[39;00m\u001b[38;5;124m \u001b[39m\u001b[38;5;132;01m{\u001b[39;00me\u001b[38;5;132;01m}\u001b[39;00m\u001b[38;5;124m'\u001b[39m)  \n",
      "Cell \u001b[0;32mIn[15], line 44\u001b[0m, in \u001b[0;36mlisten_msgs\u001b[0;34m()\u001b[0m\n\u001b[1;32m     42\u001b[0m \u001b[38;5;28;01mwhile\u001b[39;00m \u001b[38;5;28;01mTrue\u001b[39;00m:\n\u001b[1;32m     43\u001b[0m     \u001b[38;5;28mprint\u001b[39m(\u001b[38;5;124m'\u001b[39m\u001b[38;5;124m'\u001b[39m, end\u001b[38;5;241m=\u001b[39m\u001b[38;5;124m'\u001b[39m\u001b[38;5;124m'\u001b[39m, flush\u001b[38;5;241m=\u001b[39m\u001b[38;5;28;01mTrue\u001b[39;00m)\n\u001b[0;32m---> 44\u001b[0m     \u001b[43mtime\u001b[49m\u001b[38;5;241;43m.\u001b[39;49m\u001b[43msleep\u001b[49m\u001b[43m(\u001b[49m\u001b[38;5;241;43m1\u001b[39;49m\u001b[43m)\u001b[49m\n",
      "\u001b[0;31mKeyboardInterrupt\u001b[0m: "
     ]
    }
   ],
   "source": [
    "try:\n",
    "    print(\"listening for new messages-------------------\")\n",
    "    listen_msgs()\n",
    "except Exception as e:\n",
    "    print(f'error occured:\\n\\n\\n {e}')  "
   ]
  },
  {
   "cell_type": "code",
   "execution_count": null,
   "metadata": {},
   "outputs": [],
   "source": []
  }
 ],
 "metadata": {
  "kernelspec": {
   "display_name": "Python 3",
   "language": "python",
   "name": "python3"
  },
  "language_info": {
   "codemirror_mode": {
    "name": "ipython",
    "version": 3
   },
   "file_extension": ".py",
   "mimetype": "text/x-python",
   "name": "python",
   "nbconvert_exporter": "python",
   "pygments_lexer": "ipython3",
   "version": "3.10.8"
  }
 },
 "nbformat": 4,
 "nbformat_minor": 2
}
